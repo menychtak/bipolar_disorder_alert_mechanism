{
  "cells": [
    {
      "cell_type": "code",
      "execution_count": 22,
      "metadata": {
        "id": "8sdITSIEYZlu"
      },
      "outputs": [],
      "source": [
        "import pandas as pd\n",
        "\n",
        "df = pd.read_csv(r'C:\\Users\\menyc\\Documents\\Projects\\bipolar_disorter_alert_ml_mechanism\\bipolar_disorter_alert_mechanism\\data\\daily_features_cleaned.csv')"
      ]
    },
    {
      "cell_type": "markdown",
      "metadata": {
        "id": "aYzz0d7Qx7wQ"
      },
      "source": [
        "The system uses an autoencoder trained exclusively on non-relapse (label = 0) data from a specific patient to learn typical behavioral patterns. During inference, it calculates the reconstruction loss for each day and triggers an alert if this loss exceeds a predefined threshold. The model was evaluated using both normal and relapse-labeled data from the same patient, with performance assessed based on the number of correctly identified alerts and false positives. As will be shown, the model successfully identifies anomalies during a severe relapse period, demonstrating its potential. However, this implementation should be viewed as a proof of concept. To develop a more sophisticated and clinically useful version, significantly more data from a broader population of patients will be necessary, allowing for more complex modeling approaches and individualized detection strategies."
      ]
    },
    {
      "cell_type": "code",
      "execution_count": 25,
      "metadata": {
        "colab": {
          "base_uri": "https://localhost:8080/"
        },
        "collapsed": true,
        "id": "RwbDM8Bl1KBb",
        "outputId": "ed975082-ea0f-4008-a975-aa24a5f229c4"
      },
      "outputs": [
        {
          "name": "stdout",
          "output_type": "stream",
          "text": [
            "Epoch 1/100\n"
          ]
        },
        {
          "name": "stderr",
          "output_type": "stream",
          "text": [
            "C:\\Users\\menyc\\AppData\\Roaming\\Python\\Python311\\site-packages\\keras\\src\\layers\\regularization\\gaussian_noise.py:29: UserWarning: Do not pass an `input_shape`/`input_dim` argument to a layer. When using Sequential models, prefer using an `Input(shape)` object as the first layer in the model instead.\n",
            "  super().__init__(**kwargs)\n"
          ]
        },
        {
          "name": "stdout",
          "output_type": "stream",
          "text": [
            "\u001b[1m13/13\u001b[0m \u001b[32m━━━━━━━━━━━━━━━━━━━━\u001b[0m\u001b[37m\u001b[0m \u001b[1m0s\u001b[0m 9ms/step - loss: 0.6254 - val_loss: 0.5656\n",
            "Epoch 2/100\n",
            "\u001b[1m13/13\u001b[0m \u001b[32m━━━━━━━━━━━━━━━━━━━━\u001b[0m\u001b[37m\u001b[0m \u001b[1m0s\u001b[0m 4ms/step - loss: 0.5674 - val_loss: 0.5347\n",
            "Epoch 3/100\n",
            "\u001b[1m13/13\u001b[0m \u001b[32m━━━━━━━━━━━━━━━━━━━━\u001b[0m\u001b[37m\u001b[0m \u001b[1m0s\u001b[0m 4ms/step - loss: 0.5612 - val_loss: 0.5081\n",
            "Epoch 4/100\n",
            "\u001b[1m13/13\u001b[0m \u001b[32m━━━━━━━━━━━━━━━━━━━━\u001b[0m\u001b[37m\u001b[0m \u001b[1m0s\u001b[0m 4ms/step - loss: 0.5160 - val_loss: 0.4836\n",
            "Epoch 5/100\n",
            "\u001b[1m13/13\u001b[0m \u001b[32m━━━━━━━━━━━━━━━━━━━━\u001b[0m\u001b[37m\u001b[0m \u001b[1m0s\u001b[0m 4ms/step - loss: 0.4855 - val_loss: 0.4619\n",
            "Epoch 6/100\n",
            "\u001b[1m13/13\u001b[0m \u001b[32m━━━━━━━━━━━━━━━━━━━━\u001b[0m\u001b[37m\u001b[0m \u001b[1m0s\u001b[0m 4ms/step - loss: 0.4792 - val_loss: 0.4424\n",
            "Epoch 7/100\n",
            "\u001b[1m13/13\u001b[0m \u001b[32m━━━━━━━━━━━━━━━━━━━━\u001b[0m\u001b[37m\u001b[0m \u001b[1m0s\u001b[0m 4ms/step - loss: 0.4643 - val_loss: 0.4246\n",
            "Epoch 8/100\n",
            "\u001b[1m13/13\u001b[0m \u001b[32m━━━━━━━━━━━━━━━━━━━━\u001b[0m\u001b[37m\u001b[0m \u001b[1m0s\u001b[0m 4ms/step - loss: 0.4586 - val_loss: 0.4081\n",
            "Epoch 9/100\n",
            "\u001b[1m13/13\u001b[0m \u001b[32m━━━━━━━━━━━━━━━━━━━━\u001b[0m\u001b[37m\u001b[0m \u001b[1m0s\u001b[0m 4ms/step - loss: 0.4409 - val_loss: 0.3933\n",
            "Epoch 10/100\n",
            "\u001b[1m13/13\u001b[0m \u001b[32m━━━━━━━━━━━━━━━━━━━━\u001b[0m\u001b[37m\u001b[0m \u001b[1m0s\u001b[0m 4ms/step - loss: 0.4323 - val_loss: 0.3793\n",
            "Epoch 11/100\n",
            "\u001b[1m13/13\u001b[0m \u001b[32m━━━━━━━━━━━━━━━━━━━━\u001b[0m\u001b[37m\u001b[0m \u001b[1m0s\u001b[0m 4ms/step - loss: 0.4116 - val_loss: 0.3668\n",
            "Epoch 12/100\n",
            "\u001b[1m13/13\u001b[0m \u001b[32m━━━━━━━━━━━━━━━━━━━━\u001b[0m\u001b[37m\u001b[0m \u001b[1m0s\u001b[0m 4ms/step - loss: 0.3807 - val_loss: 0.3558\n",
            "Epoch 13/100\n",
            "\u001b[1m13/13\u001b[0m \u001b[32m━━━━━━━━━━━━━━━━━━━━\u001b[0m\u001b[37m\u001b[0m \u001b[1m0s\u001b[0m 4ms/step - loss: 0.3663 - val_loss: 0.3453\n",
            "Epoch 14/100\n",
            "\u001b[1m13/13\u001b[0m \u001b[32m━━━━━━━━━━━━━━━━━━━━\u001b[0m\u001b[37m\u001b[0m \u001b[1m0s\u001b[0m 4ms/step - loss: 0.3805 - val_loss: 0.3355\n",
            "Epoch 15/100\n",
            "\u001b[1m13/13\u001b[0m \u001b[32m━━━━━━━━━━━━━━━━━━━━\u001b[0m\u001b[37m\u001b[0m \u001b[1m0s\u001b[0m 4ms/step - loss: 0.3529 - val_loss: 0.3268\n",
            "Epoch 16/100\n",
            "\u001b[1m13/13\u001b[0m \u001b[32m━━━━━━━━━━━━━━━━━━━━\u001b[0m\u001b[37m\u001b[0m \u001b[1m0s\u001b[0m 4ms/step - loss: 0.3400 - val_loss: 0.3181\n",
            "Epoch 17/100\n",
            "\u001b[1m13/13\u001b[0m \u001b[32m━━━━━━━━━━━━━━━━━━━━\u001b[0m\u001b[37m\u001b[0m \u001b[1m0s\u001b[0m 4ms/step - loss: 0.3348 - val_loss: 0.3101\n",
            "Epoch 18/100\n",
            "\u001b[1m13/13\u001b[0m \u001b[32m━━━━━━━━━━━━━━━━━━━━\u001b[0m\u001b[37m\u001b[0m \u001b[1m0s\u001b[0m 5ms/step - loss: 0.3505 - val_loss: 0.3027\n",
            "Epoch 19/100\n",
            "\u001b[1m13/13\u001b[0m \u001b[32m━━━━━━━━━━━━━━━━━━━━\u001b[0m\u001b[37m\u001b[0m \u001b[1m0s\u001b[0m 4ms/step - loss: 0.3385 - val_loss: 0.2959\n",
            "Epoch 20/100\n",
            "\u001b[1m13/13\u001b[0m \u001b[32m━━━━━━━━━━━━━━━━━━━━\u001b[0m\u001b[37m\u001b[0m \u001b[1m0s\u001b[0m 4ms/step - loss: 0.3161 - val_loss: 0.2893\n",
            "Epoch 21/100\n",
            "\u001b[1m13/13\u001b[0m \u001b[32m━━━━━━━━━━━━━━━━━━━━\u001b[0m\u001b[37m\u001b[0m \u001b[1m0s\u001b[0m 4ms/step - loss: 0.3191 - val_loss: 0.2840\n",
            "Epoch 22/100\n",
            "\u001b[1m13/13\u001b[0m \u001b[32m━━━━━━━━━━━━━━━━━━━━\u001b[0m\u001b[37m\u001b[0m \u001b[1m0s\u001b[0m 4ms/step - loss: 0.3020 - val_loss: 0.2789\n",
            "Epoch 23/100\n",
            "\u001b[1m13/13\u001b[0m \u001b[32m━━━━━━━━━━━━━━━━━━━━\u001b[0m\u001b[37m\u001b[0m \u001b[1m0s\u001b[0m 4ms/step - loss: 0.3161 - val_loss: 0.2741\n",
            "Epoch 24/100\n",
            "\u001b[1m13/13\u001b[0m \u001b[32m━━━━━━━━━━━━━━━━━━━━\u001b[0m\u001b[37m\u001b[0m \u001b[1m0s\u001b[0m 4ms/step - loss: 0.3046 - val_loss: 0.2702\n",
            "Epoch 25/100\n",
            "\u001b[1m13/13\u001b[0m \u001b[32m━━━━━━━━━━━━━━━━━━━━\u001b[0m\u001b[37m\u001b[0m \u001b[1m0s\u001b[0m 4ms/step - loss: 0.2920 - val_loss: 0.2656\n",
            "Epoch 26/100\n",
            "\u001b[1m13/13\u001b[0m \u001b[32m━━━━━━━━━━━━━━━━━━━━\u001b[0m\u001b[37m\u001b[0m \u001b[1m0s\u001b[0m 4ms/step - loss: 0.3014 - val_loss: 0.2618\n",
            "Epoch 27/100\n",
            "\u001b[1m13/13\u001b[0m \u001b[32m━━━━━━━━━━━━━━━━━━━━\u001b[0m\u001b[37m\u001b[0m \u001b[1m0s\u001b[0m 4ms/step - loss: 0.2683 - val_loss: 0.2583\n",
            "Epoch 28/100\n",
            "\u001b[1m13/13\u001b[0m \u001b[32m━━━━━━━━━━━━━━━━━━━━\u001b[0m\u001b[37m\u001b[0m \u001b[1m0s\u001b[0m 4ms/step - loss: 0.2846 - val_loss: 0.2553\n",
            "Epoch 29/100\n",
            "\u001b[1m13/13\u001b[0m \u001b[32m━━━━━━━━━━━━━━━━━━━━\u001b[0m\u001b[37m\u001b[0m \u001b[1m0s\u001b[0m 4ms/step - loss: 0.2749 - val_loss: 0.2521\n",
            "Epoch 30/100\n",
            "\u001b[1m13/13\u001b[0m \u001b[32m━━━━━━━━━━━━━━━━━━━━\u001b[0m\u001b[37m\u001b[0m \u001b[1m0s\u001b[0m 4ms/step - loss: 0.2894 - val_loss: 0.2492\n",
            "Epoch 31/100\n",
            "\u001b[1m13/13\u001b[0m \u001b[32m━━━━━━━━━━━━━━━━━━━━\u001b[0m\u001b[37m\u001b[0m \u001b[1m0s\u001b[0m 4ms/step - loss: 0.2561 - val_loss: 0.2467\n",
            "Epoch 32/100\n",
            "\u001b[1m13/13\u001b[0m \u001b[32m━━━━━━━━━━━━━━━━━━━━\u001b[0m\u001b[37m\u001b[0m \u001b[1m0s\u001b[0m 4ms/step - loss: 0.2692 - val_loss: 0.2444\n",
            "Epoch 33/100\n",
            "\u001b[1m13/13\u001b[0m \u001b[32m━━━━━━━━━━━━━━━━━━━━\u001b[0m\u001b[37m\u001b[0m \u001b[1m0s\u001b[0m 4ms/step - loss: 0.2913 - val_loss: 0.2418\n",
            "Epoch 34/100\n",
            "\u001b[1m13/13\u001b[0m \u001b[32m━━━━━━━━━━━━━━━━━━━━\u001b[0m\u001b[37m\u001b[0m \u001b[1m0s\u001b[0m 4ms/step - loss: 0.2765 - val_loss: 0.2397\n",
            "Epoch 35/100\n",
            "\u001b[1m13/13\u001b[0m \u001b[32m━━━━━━━━━━━━━━━━━━━━\u001b[0m\u001b[37m\u001b[0m \u001b[1m0s\u001b[0m 4ms/step - loss: 0.2485 - val_loss: 0.2379\n",
            "Epoch 36/100\n",
            "\u001b[1m13/13\u001b[0m \u001b[32m━━━━━━━━━━━━━━━━━━━━\u001b[0m\u001b[37m\u001b[0m \u001b[1m0s\u001b[0m 4ms/step - loss: 0.2735 - val_loss: 0.2360\n",
            "Epoch 37/100\n",
            "\u001b[1m13/13\u001b[0m \u001b[32m━━━━━━━━━━━━━━━━━━━━\u001b[0m\u001b[37m\u001b[0m \u001b[1m0s\u001b[0m 4ms/step - loss: 0.2467 - val_loss: 0.2341\n",
            "Epoch 38/100\n",
            "\u001b[1m13/13\u001b[0m \u001b[32m━━━━━━━━━━━━━━━━━━━━\u001b[0m\u001b[37m\u001b[0m \u001b[1m0s\u001b[0m 4ms/step - loss: 0.2416 - val_loss: 0.2331\n",
            "Epoch 39/100\n",
            "\u001b[1m13/13\u001b[0m \u001b[32m━━━━━━━━━━━━━━━━━━━━\u001b[0m\u001b[37m\u001b[0m \u001b[1m0s\u001b[0m 4ms/step - loss: 0.2563 - val_loss: 0.2316\n",
            "Epoch 40/100\n",
            "\u001b[1m13/13\u001b[0m \u001b[32m━━━━━━━━━━━━━━━━━━━━\u001b[0m\u001b[37m\u001b[0m \u001b[1m0s\u001b[0m 4ms/step - loss: 0.2508 - val_loss: 0.2300\n",
            "Epoch 41/100\n",
            "\u001b[1m13/13\u001b[0m \u001b[32m━━━━━━━━━━━━━━━━━━━━\u001b[0m\u001b[37m\u001b[0m \u001b[1m0s\u001b[0m 4ms/step - loss: 0.2512 - val_loss: 0.2285\n",
            "Epoch 42/100\n",
            "\u001b[1m13/13\u001b[0m \u001b[32m━━━━━━━━━━━━━━━━━━━━\u001b[0m\u001b[37m\u001b[0m \u001b[1m0s\u001b[0m 4ms/step - loss: 0.2468 - val_loss: 0.2273\n",
            "Epoch 43/100\n",
            "\u001b[1m13/13\u001b[0m \u001b[32m━━━━━━━━━━━━━━━━━━━━\u001b[0m\u001b[37m\u001b[0m \u001b[1m0s\u001b[0m 4ms/step - loss: 0.2492 - val_loss: 0.2260\n",
            "Epoch 44/100\n",
            "\u001b[1m13/13\u001b[0m \u001b[32m━━━━━━━━━━━━━━━━━━━━\u001b[0m\u001b[37m\u001b[0m \u001b[1m0s\u001b[0m 4ms/step - loss: 0.2543 - val_loss: 0.2249\n",
            "Epoch 45/100\n",
            "\u001b[1m13/13\u001b[0m \u001b[32m━━━━━━━━━━━━━━━━━━━━\u001b[0m\u001b[37m\u001b[0m \u001b[1m0s\u001b[0m 4ms/step - loss: 0.2435 - val_loss: 0.2239\n",
            "Epoch 46/100\n",
            "\u001b[1m13/13\u001b[0m \u001b[32m━━━━━━━━━━━━━━━━━━━━\u001b[0m\u001b[37m\u001b[0m \u001b[1m0s\u001b[0m 4ms/step - loss: 0.2504 - val_loss: 0.2224\n",
            "Epoch 47/100\n",
            "\u001b[1m13/13\u001b[0m \u001b[32m━━━━━━━━━━━━━━━━━━━━\u001b[0m\u001b[37m\u001b[0m \u001b[1m0s\u001b[0m 4ms/step - loss: 0.2509 - val_loss: 0.2213\n",
            "Epoch 48/100\n",
            "\u001b[1m13/13\u001b[0m \u001b[32m━━━━━━━━━━━━━━━━━━━━\u001b[0m\u001b[37m\u001b[0m \u001b[1m0s\u001b[0m 4ms/step - loss: 0.2377 - val_loss: 0.2203\n",
            "Epoch 49/100\n",
            "\u001b[1m13/13\u001b[0m \u001b[32m━━━━━━━━━━━━━━━━━━━━\u001b[0m\u001b[37m\u001b[0m \u001b[1m0s\u001b[0m 4ms/step - loss: 0.2656 - val_loss: 0.2193\n",
            "Epoch 50/100\n",
            "\u001b[1m13/13\u001b[0m \u001b[32m━━━━━━━━━━━━━━━━━━━━\u001b[0m\u001b[37m\u001b[0m \u001b[1m0s\u001b[0m 4ms/step - loss: 0.2305 - val_loss: 0.2183\n",
            "Epoch 51/100\n",
            "\u001b[1m13/13\u001b[0m \u001b[32m━━━━━━━━━━━━━━━━━━━━\u001b[0m\u001b[37m\u001b[0m \u001b[1m0s\u001b[0m 4ms/step - loss: 0.2383 - val_loss: 0.2174\n",
            "Epoch 52/100\n",
            "\u001b[1m13/13\u001b[0m \u001b[32m━━━━━━━━━━━━━━━━━━━━\u001b[0m\u001b[37m\u001b[0m \u001b[1m0s\u001b[0m 4ms/step - loss: 0.2294 - val_loss: 0.2167\n",
            "Epoch 53/100\n",
            "\u001b[1m13/13\u001b[0m \u001b[32m━━━━━━━━━━━━━━━━━━━━\u001b[0m\u001b[37m\u001b[0m \u001b[1m0s\u001b[0m 4ms/step - loss: 0.2303 - val_loss: 0.2154\n",
            "Epoch 54/100\n",
            "\u001b[1m13/13\u001b[0m \u001b[32m━━━━━━━━━━━━━━━━━━━━\u001b[0m\u001b[37m\u001b[0m \u001b[1m0s\u001b[0m 4ms/step - loss: 0.2428 - val_loss: 0.2145\n",
            "Epoch 55/100\n",
            "\u001b[1m13/13\u001b[0m \u001b[32m━━━━━━━━━━━━━━━━━━━━\u001b[0m\u001b[37m\u001b[0m \u001b[1m0s\u001b[0m 4ms/step - loss: 0.2243 - val_loss: 0.2137\n",
            "Epoch 56/100\n",
            "\u001b[1m13/13\u001b[0m \u001b[32m━━━━━━━━━━━━━━━━━━━━\u001b[0m\u001b[37m\u001b[0m \u001b[1m0s\u001b[0m 4ms/step - loss: 0.2252 - val_loss: 0.2126\n",
            "Epoch 57/100\n",
            "\u001b[1m13/13\u001b[0m \u001b[32m━━━━━━━━━━━━━━━━━━━━\u001b[0m\u001b[37m\u001b[0m \u001b[1m0s\u001b[0m 4ms/step - loss: 0.2230 - val_loss: 0.2119\n",
            "Epoch 58/100\n",
            "\u001b[1m13/13\u001b[0m \u001b[32m━━━━━━━━━━━━━━━━━━━━\u001b[0m\u001b[37m\u001b[0m \u001b[1m0s\u001b[0m 4ms/step - loss: 0.2242 - val_loss: 0.2111\n",
            "Epoch 59/100\n",
            "\u001b[1m13/13\u001b[0m \u001b[32m━━━━━━━━━━━━━━━━━━━━\u001b[0m\u001b[37m\u001b[0m \u001b[1m0s\u001b[0m 4ms/step - loss: 0.2445 - val_loss: 0.2106\n",
            "Epoch 60/100\n",
            "\u001b[1m13/13\u001b[0m \u001b[32m━━━━━━━━━━━━━━━━━━━━\u001b[0m\u001b[37m\u001b[0m \u001b[1m0s\u001b[0m 4ms/step - loss: 0.2368 - val_loss: 0.2098\n",
            "Epoch 61/100\n",
            "\u001b[1m13/13\u001b[0m \u001b[32m━━━━━━━━━━━━━━━━━━━━\u001b[0m\u001b[37m\u001b[0m \u001b[1m0s\u001b[0m 4ms/step - loss: 0.2490 - val_loss: 0.2090\n",
            "Epoch 62/100\n",
            "\u001b[1m13/13\u001b[0m \u001b[32m━━━━━━━━━━━━━━━━━━━━\u001b[0m\u001b[37m\u001b[0m \u001b[1m0s\u001b[0m 4ms/step - loss: 0.2236 - val_loss: 0.2085\n",
            "Epoch 63/100\n",
            "\u001b[1m13/13\u001b[0m \u001b[32m━━━━━━━━━━━━━━━━━━━━\u001b[0m\u001b[37m\u001b[0m \u001b[1m0s\u001b[0m 4ms/step - loss: 0.2116 - val_loss: 0.2079\n",
            "Epoch 64/100\n",
            "\u001b[1m13/13\u001b[0m \u001b[32m━━━━━━━━━━━━━━━━━━━━\u001b[0m\u001b[37m\u001b[0m \u001b[1m0s\u001b[0m 4ms/step - loss: 0.2394 - val_loss: 0.2074\n",
            "Epoch 65/100\n",
            "\u001b[1m13/13\u001b[0m \u001b[32m━━━━━━━━━━━━━━━━━━━━\u001b[0m\u001b[37m\u001b[0m \u001b[1m0s\u001b[0m 4ms/step - loss: 0.2209 - val_loss: 0.2066\n",
            "Epoch 66/100\n",
            "\u001b[1m13/13\u001b[0m \u001b[32m━━━━━━━━━━━━━━━━━━━━\u001b[0m\u001b[37m\u001b[0m \u001b[1m0s\u001b[0m 4ms/step - loss: 0.2291 - val_loss: 0.2060\n",
            "Epoch 67/100\n",
            "\u001b[1m13/13\u001b[0m \u001b[32m━━━━━━━━━━━━━━━━━━━━\u001b[0m\u001b[37m\u001b[0m \u001b[1m0s\u001b[0m 4ms/step - loss: 0.2290 - val_loss: 0.2054\n",
            "Epoch 68/100\n",
            "\u001b[1m13/13\u001b[0m \u001b[32m━━━━━━━━━━━━━━━━━━━━\u001b[0m\u001b[37m\u001b[0m \u001b[1m0s\u001b[0m 4ms/step - loss: 0.2463 - val_loss: 0.2046\n",
            "Epoch 69/100\n",
            "\u001b[1m13/13\u001b[0m \u001b[32m━━━━━━━━━━━━━━━━━━━━\u001b[0m\u001b[37m\u001b[0m \u001b[1m0s\u001b[0m 4ms/step - loss: 0.2333 - val_loss: 0.2040\n",
            "Epoch 70/100\n",
            "\u001b[1m13/13\u001b[0m \u001b[32m━━━━━━━━━━━━━━━━━━━━\u001b[0m\u001b[37m\u001b[0m \u001b[1m0s\u001b[0m 4ms/step - loss: 0.2175 - val_loss: 0.2032\n",
            "Epoch 71/100\n",
            "\u001b[1m13/13\u001b[0m \u001b[32m━━━━━━━━━━━━━━━━━━━━\u001b[0m\u001b[37m\u001b[0m \u001b[1m0s\u001b[0m 4ms/step - loss: 0.2227 - val_loss: 0.2023\n",
            "Epoch 72/100\n",
            "\u001b[1m13/13\u001b[0m \u001b[32m━━━━━━━━━━━━━━━━━━━━\u001b[0m\u001b[37m\u001b[0m \u001b[1m0s\u001b[0m 4ms/step - loss: 0.2001 - val_loss: 0.2019\n",
            "Epoch 73/100\n",
            "\u001b[1m13/13\u001b[0m \u001b[32m━━━━━━━━━━━━━━━━━━━━\u001b[0m\u001b[37m\u001b[0m \u001b[1m0s\u001b[0m 4ms/step - loss: 0.2052 - val_loss: 0.2014\n",
            "Epoch 74/100\n",
            "\u001b[1m13/13\u001b[0m \u001b[32m━━━━━━━━━━━━━━━━━━━━\u001b[0m\u001b[37m\u001b[0m \u001b[1m0s\u001b[0m 4ms/step - loss: 0.2308 - val_loss: 0.2009\n",
            "Epoch 75/100\n",
            "\u001b[1m13/13\u001b[0m \u001b[32m━━━━━━━━━━━━━━━━━━━━\u001b[0m\u001b[37m\u001b[0m \u001b[1m0s\u001b[0m 4ms/step - loss: 0.2236 - val_loss: 0.2008\n",
            "Epoch 76/100\n",
            "\u001b[1m13/13\u001b[0m \u001b[32m━━━━━━━━━━━━━━━━━━━━\u001b[0m\u001b[37m\u001b[0m \u001b[1m0s\u001b[0m 4ms/step - loss: 0.2176 - val_loss: 0.2005\n",
            "Epoch 77/100\n",
            "\u001b[1m13/13\u001b[0m \u001b[32m━━━━━━━━━━━━━━━━━━━━\u001b[0m\u001b[37m\u001b[0m \u001b[1m0s\u001b[0m 4ms/step - loss: 0.2281 - val_loss: 0.2000\n",
            "Epoch 78/100\n",
            "\u001b[1m13/13\u001b[0m \u001b[32m━━━━━━━━━━━━━━━━━━━━\u001b[0m\u001b[37m\u001b[0m \u001b[1m0s\u001b[0m 4ms/step - loss: 0.2256 - val_loss: 0.1996\n",
            "Epoch 79/100\n",
            "\u001b[1m13/13\u001b[0m \u001b[32m━━━━━━━━━━━━━━━━━━━━\u001b[0m\u001b[37m\u001b[0m \u001b[1m0s\u001b[0m 4ms/step - loss: 0.2312 - val_loss: 0.1990\n",
            "Epoch 80/100\n",
            "\u001b[1m13/13\u001b[0m \u001b[32m━━━━━━━━━━━━━━━━━━━━\u001b[0m\u001b[37m\u001b[0m \u001b[1m0s\u001b[0m 4ms/step - loss: 0.2213 - val_loss: 0.1986\n",
            "Epoch 81/100\n",
            "\u001b[1m13/13\u001b[0m \u001b[32m━━━━━━━━━━━━━━━━━━━━\u001b[0m\u001b[37m\u001b[0m \u001b[1m0s\u001b[0m 4ms/step - loss: 0.2267 - val_loss: 0.1982\n",
            "Epoch 82/100\n",
            "\u001b[1m13/13\u001b[0m \u001b[32m━━━━━━━━━━━━━━━━━━━━\u001b[0m\u001b[37m\u001b[0m \u001b[1m0s\u001b[0m 4ms/step - loss: 0.2175 - val_loss: 0.1976\n",
            "Epoch 83/100\n",
            "\u001b[1m13/13\u001b[0m \u001b[32m━━━━━━━━━━━━━━━━━━━━\u001b[0m\u001b[37m\u001b[0m \u001b[1m0s\u001b[0m 4ms/step - loss: 0.2069 - val_loss: 0.1972\n",
            "Epoch 84/100\n",
            "\u001b[1m13/13\u001b[0m \u001b[32m━━━━━━━━━━━━━━━━━━━━\u001b[0m\u001b[37m\u001b[0m \u001b[1m0s\u001b[0m 4ms/step - loss: 0.2196 - val_loss: 0.1971\n",
            "Epoch 85/100\n",
            "\u001b[1m13/13\u001b[0m \u001b[32m━━━━━━━━━━━━━━━━━━━━\u001b[0m\u001b[37m\u001b[0m \u001b[1m0s\u001b[0m 4ms/step - loss: 0.2066 - val_loss: 0.1970\n",
            "Epoch 86/100\n",
            "\u001b[1m13/13\u001b[0m \u001b[32m━━━━━━━━━━━━━━━━━━━━\u001b[0m\u001b[37m\u001b[0m \u001b[1m0s\u001b[0m 4ms/step - loss: 0.2195 - val_loss: 0.1964\n",
            "Epoch 87/100\n",
            "\u001b[1m13/13\u001b[0m \u001b[32m━━━━━━━━━━━━━━━━━━━━\u001b[0m\u001b[37m\u001b[0m \u001b[1m0s\u001b[0m 4ms/step - loss: 0.2118 - val_loss: 0.1958\n",
            "Epoch 88/100\n",
            "\u001b[1m13/13\u001b[0m \u001b[32m━━━━━━━━━━━━━━━━━━━━\u001b[0m\u001b[37m\u001b[0m \u001b[1m0s\u001b[0m 4ms/step - loss: 0.2037 - val_loss: 0.1956\n",
            "Epoch 89/100\n",
            "\u001b[1m13/13\u001b[0m \u001b[32m━━━━━━━━━━━━━━━━━━━━\u001b[0m\u001b[37m\u001b[0m \u001b[1m0s\u001b[0m 4ms/step - loss: 0.2290 - val_loss: 0.1949\n",
            "Epoch 90/100\n",
            "\u001b[1m13/13\u001b[0m \u001b[32m━━━━━━━━━━━━━━━━━━━━\u001b[0m\u001b[37m\u001b[0m \u001b[1m0s\u001b[0m 4ms/step - loss: 0.1927 - val_loss: 0.1941\n",
            "Epoch 91/100\n",
            "\u001b[1m13/13\u001b[0m \u001b[32m━━━━━━━━━━━━━━━━━━━━\u001b[0m\u001b[37m\u001b[0m \u001b[1m0s\u001b[0m 4ms/step - loss: 0.2007 - val_loss: 0.1940\n",
            "Epoch 92/100\n",
            "\u001b[1m13/13\u001b[0m \u001b[32m━━━━━━━━━━━━━━━━━━━━\u001b[0m\u001b[37m\u001b[0m \u001b[1m0s\u001b[0m 4ms/step - loss: 0.2126 - val_loss: 0.1934\n",
            "Epoch 93/100\n",
            "\u001b[1m13/13\u001b[0m \u001b[32m━━━━━━━━━━━━━━━━━━━━\u001b[0m\u001b[37m\u001b[0m \u001b[1m0s\u001b[0m 4ms/step - loss: 0.2000 - val_loss: 0.1928\n",
            "Epoch 94/100\n",
            "\u001b[1m13/13\u001b[0m \u001b[32m━━━━━━━━━━━━━━━━━━━━\u001b[0m\u001b[37m\u001b[0m \u001b[1m0s\u001b[0m 4ms/step - loss: 0.1947 - val_loss: 0.1926\n",
            "Epoch 95/100\n",
            "\u001b[1m13/13\u001b[0m \u001b[32m━━━━━━━━━━━━━━━━━━━━\u001b[0m\u001b[37m\u001b[0m \u001b[1m0s\u001b[0m 4ms/step - loss: 0.2047 - val_loss: 0.1918\n",
            "Epoch 96/100\n",
            "\u001b[1m13/13\u001b[0m \u001b[32m━━━━━━━━━━━━━━━━━━━━\u001b[0m\u001b[37m\u001b[0m \u001b[1m0s\u001b[0m 5ms/step - loss: 0.2026 - val_loss: 0.1912\n",
            "Epoch 97/100\n",
            "\u001b[1m13/13\u001b[0m \u001b[32m━━━━━━━━━━━━━━━━━━━━\u001b[0m\u001b[37m\u001b[0m \u001b[1m0s\u001b[0m 4ms/step - loss: 0.2002 - val_loss: 0.1908\n",
            "Epoch 98/100\n",
            "\u001b[1m13/13\u001b[0m \u001b[32m━━━━━━━━━━━━━━━━━━━━\u001b[0m\u001b[37m\u001b[0m \u001b[1m0s\u001b[0m 4ms/step - loss: 0.2230 - val_loss: 0.1903\n",
            "Epoch 99/100\n",
            "\u001b[1m13/13\u001b[0m \u001b[32m━━━━━━━━━━━━━━━━━━━━\u001b[0m\u001b[37m\u001b[0m \u001b[1m0s\u001b[0m 4ms/step - loss: 0.2115 - val_loss: 0.1899\n",
            "Epoch 100/100\n",
            "\u001b[1m13/13\u001b[0m \u001b[32m━━━━━━━━━━━━━━━━━━━━\u001b[0m\u001b[37m\u001b[0m \u001b[1m0s\u001b[0m 4ms/step - loss: 0.1974 - val_loss: 0.1896\n",
            " Autoencoder training complete.\n"
          ]
        }
      ],
      "source": [
        "# StandardScaler (Linear activation)\n",
        "\n",
        "from sklearn.model_selection import train_test_split\n",
        "from sklearn.preprocessing import StandardScaler\n",
        "import tensorflow as tf\n",
        "from tensorflow.keras import layers, models\n",
        "from tensorflow.keras.callbacks import EarlyStopping\n",
        "\n",
        "# Filter only normal (label == 0) samples for training\n",
        "df_filtered = df[df[\"label\"] == 0].drop(columns=[\"label\", \"date\"])\n",
        "\n",
        "# Scale features\n",
        "scaler = StandardScaler()\n",
        "X_scaled = scaler.fit_transform(df_filtered)\n",
        "\n",
        "# Train/test split\n",
        "X_train, X_test = train_test_split(X_scaled, test_size=0.2, random_state=42)\n",
        "\n",
        "# Define autoencoder\n",
        "input_dim = X_train.shape[1]\n",
        "encoding_dim = 10\n",
        "\n",
        "autoencoder = models.Sequential([\n",
        "    layers.GaussianNoise(0.05, input_shape=(input_dim,)),  # FIXED\n",
        "    # layers.Input(shape=(input_dim,)),\n",
        "    layers.Dense(encoding_dim, activation='relu'),\n",
        "    layers.Dense(input_dim, activation='tanh')\n",
        "])\n",
        "\n",
        "# autoencoder.compile(optimizer='adam', loss='mse')\n",
        "autoencoder.compile(optimizer='adam', loss='mae')\n",
        "\n",
        "# Train\n",
        "early_stop = EarlyStopping(monitor='val_loss', patience=5, restore_best_weights=True)\n",
        "history = autoencoder.fit(X_train, X_train,\n",
        "                          epochs=100,\n",
        "                          batch_size=32,\n",
        "                          shuffle=True,\n",
        "                          validation_data=(X_test, X_test),\n",
        "                          callbacks=[early_stop],\n",
        "                          verbose=1)\n",
        "\n",
        "print(\" Autoencoder training complete.\")\n"
      ]
    },
    {
      "cell_type": "markdown",
      "metadata": {
        "id": "hwfT_55tZd27"
      },
      "source": [
        "**Step 2: Compute Reconstruction Errors for All Samples (Label 0 and 1)**"
      ]
    },
    {
      "cell_type": "code",
      "execution_count": 27,
      "metadata": {
        "colab": {
          "base_uri": "https://localhost:8080/"
        },
        "id": "NpW811Y0hVYZ",
        "outputId": "c1aac199-20cd-409b-ee52-11ad7c406254"
      },
      "outputs": [
        {
          "name": "stdout",
          "output_type": "stream",
          "text": [
            "\u001b[1m17/17\u001b[0m \u001b[32m━━━━━━━━━━━━━━━━━━━━\u001b[0m\u001b[37m\u001b[0m \u001b[1m0s\u001b[0m 2ms/step \n",
            " Reconstruction errors computed for all samples.\n"
          ]
        }
      ],
      "source": [
        "import numpy as np\n",
        "\n",
        "# Drop label and date for reconstruction\n",
        "df_features = df.drop(columns=[\"label\", \"date\"])\n",
        "X_all_scaled = scaler.transform(df_features)\n",
        "\n",
        "# Predict reconstructed inputs\n",
        "X_pred = autoencoder.predict(X_all_scaled)\n",
        "\n",
        "# Compute per-feature squared reconstruction error\n",
        "reconstruction_errors = np.square(X_all_scaled - X_pred)\n",
        "\n",
        "# Store as DataFrame\n",
        "df_errors = pd.DataFrame(reconstruction_errors, columns=df_features.columns)\n",
        "\n",
        "# Reattach metadata for evaluation\n",
        "df_errors[\"label\"] = df[\"label\"].values\n",
        "df_errors[\"date\"] = pd.to_datetime(df[\"date\"])\n",
        "\n",
        "print(\" Reconstruction errors computed for all samples.\")\n"
      ]
    },
    {
      "cell_type": "markdown",
      "metadata": {
        "id": "dXe4crgDZq0A"
      },
      "source": [
        "**Step 3: Check if the label 1 will classify as an anomally**:\n",
        "\n",
        "Creating a test dataset with equal points from label 0 and 1 to check the reocnstruction loss of the autoencoder pretrained model"
      ]
    },
    {
      "cell_type": "code",
      "execution_count": 28,
      "metadata": {
        "colab": {
          "base_uri": "https://localhost:8080/"
        },
        "id": "d99Hfq5AZYhd",
        "outputId": "0b16d4c5-712a-48f5-ede1-69dbccd4814e"
      },
      "outputs": [
        {
          "name": "stdout",
          "output_type": "stream",
          "text": [
            "\u001b[1m2/2\u001b[0m \u001b[32m━━━━━━━━━━━━━━━━━━━━\u001b[0m\u001b[37m\u001b[0m \u001b[1m0s\u001b[0m 11ms/step\n"
          ]
        }
      ],
      "source": [
        "import pandas as pd\n",
        "# Select a sample of label 1 and unseen label 0 data for testing\n",
        "df_label_1 = df[df['label'] == 1]\n",
        "df_label_0_sample = df[df['label'] == 0].sample(n=len(df_label_1), random_state=42) # Sample same number of 0s as 1s\n",
        "df_test_sample = pd.concat([df_label_1, df_label_0_sample])\n",
        "\n",
        "# Separate features and labels for the test sample\n",
        "X_test_sample = df_test_sample.drop(columns=['label', 'date'])\n",
        "y_test_sample = df_test_sample['label']\n",
        "\n",
        "# Scale the test sample data using the same scaler fitted on the training data (label 0)\n",
        "X_test_sample_scaled = scaler.transform(X_test_sample)\n",
        "\n",
        "# Predict reconstructions for the test sample\n",
        "X_test_sample_pred = autoencoder.predict(X_test_sample_scaled)\n",
        "\n",
        "# Calculate reconstruction loss (Mean Squared Error) for the test sample\n",
        "mse = tf.keras.losses.MeanSquaredError()\n",
        "reconstruction_losses = tf.reduce_mean(tf.square(X_test_sample_scaled - X_test_sample_pred), axis=1).numpy()\n",
        "\n",
        "# Add reconstruction loss to the test sample DataFrame\n",
        "df_test_sample['reconstruction_loss'] = reconstruction_losses\n"
      ]
    },
    {
      "cell_type": "markdown",
      "metadata": {
        "id": "fjZBVPQ7Z3jh"
      },
      "source": [
        "Visualize the distribution of reconstruction losses for different labels"
      ]
    },
    {
      "cell_type": "code",
      "execution_count": 29,
      "metadata": {
        "colab": {
          "base_uri": "https://localhost:8080/",
          "height": 755
        },
        "id": "rbC37K-RZ33q",
        "outputId": "98174889-aad7-480d-bd66-29b12b4f416d"
      },
      "outputs": [
        {
          "data": {
            "image/png": "[encoded data removed]",
            "text/plain": [
              "<Figure size 1000x600 with 1 Axes>"
            ]
          },
          "metadata": {},
          "output_type": "display_data"
        },
        {
          "name": "stdout",
          "output_type": "stream",
          "text": [
            "\n",
            "Reconstruction Loss Statistics by Label:\n",
            "       count      mean       std       min       25%       50%       75%  \\\n",
            "label                                                                      \n",
            "0       25.0  0.114066  0.145154  0.002586  0.016138  0.049003  0.159498   \n",
            "1       25.0  0.612587  1.065446  0.002982  0.020378  0.375734  0.522687   \n",
            "\n",
            "           max  \n",
            "label           \n",
            "0      0.46307  \n",
            "1      4.99363  \n"
          ]
        }
      ],
      "source": [
        "import matplotlib.pyplot as plt\n",
        "import seaborn as sns\n",
        "\n",
        "plt.figure(figsize=(10, 6))\n",
        "sns.histplot(df_test_sample, x='reconstruction_loss', hue='label', kde=True, stat='density', common_norm=False)\n",
        "plt.title('Distribution of Reconstruction Loss for Label 0 and Label 1')\n",
        "plt.xlabel('Reconstruction Loss')\n",
        "plt.ylabel('Density')\n",
        "plt.show()\n",
        "\n",
        "print(\"\\nReconstruction Loss Statistics by Label:\")\n",
        "print(df_test_sample.groupby('label')['reconstruction_loss'].describe())\n"
      ]
    },
    {
      "cell_type": "markdown",
      "metadata": {
        "id": "x4ZIO8cAaa4O"
      },
      "source": [
        "To determine if the autoencoder predicts label 1 as an anomaly,\n",
        "we need *** significantly higher reconstruction losses***\n",
        "for data points with label 1 compared to those with label 0.\n",
        "\n",
        "Let's set a threshold based on the distribution of losses for label 0 (e.g., mean + n*std_dev or a percentile) and see how many label 1 samples\n",
        "fall above that threshold."
      ]
    },
    {
      "cell_type": "code",
      "execution_count": 30,
      "metadata": {
        "colab": {
          "base_uri": "https://localhost:8080/"
        },
        "id": "7UdqtFJbabyt",
        "outputId": "7ca29425-7b4b-4d8b-fd19-edfb714ed186"
      },
      "outputs": [
        {
          "name": "stdout",
          "output_type": "stream",
          "text": [
            "\n",
            "Threshold based on 95th percentile of label 0 reconstruction loss: 0.3774\n",
            "\n",
            "Number of label 1 samples with reconstruction loss > threshold: 12\n",
            "Total number of label 1 samples in the test sample: 25\n",
            "Percentage of label 1 samples predicted as anomalies: 48.00%\n",
            "Number of label 0 samples with reconstruction loss > threshold (false positives): 2\n",
            "Total number of label 0 samples in the test sample: 25\n",
            "Percentage of label 0 samples predicted as anomalies (false positive rate): 8.00%\n"
          ]
        }
      ],
      "source": [
        "# Example: Set a threshold based on the 95th percentile of reconstruction loss for label 0\n",
        "threshold = df_test_sample[df_test_sample['label'] == 0]['reconstruction_loss'].quantile(0.95)\n",
        "print(f\"\\nThreshold based on 95th percentile of label 0 reconstruction loss: {threshold:.4f}\")\n",
        "\n",
        "# Count how many samples with label 1 have reconstruction loss above the threshold\n",
        "anomalies_predicted = df_test_sample[(df_test_sample['reconstruction_loss'] > threshold) & (df_test_sample['label'] == 1)].shape[0]\n",
        "total_label_1 = df_test_sample[df_test_sample['label'] == 1].shape[0]\n",
        "\n",
        "print(f\"\\nNumber of label 1 samples with reconstruction loss > threshold: {anomalies_predicted}\")\n",
        "print(f\"Total number of label 1 samples in the test sample: {total_label_1}\")\n",
        "print(f\"Percentage of label 1 samples predicted as anomalies: {(anomalies_predicted / total_label_1) * 100:.2f}%\")\n",
        "\n",
        "# Count how many samples with label 0 are incorrectly predicted as anomalies\n",
        "false_positives = df_test_sample[(df_test_sample['reconstruction_loss'] > threshold) & (df_test_sample['label'] == 0)].shape[0]\n",
        "total_label_0 = df_test_sample[df_test_sample['label'] == 0].shape[0]\n",
        "\n",
        "print(f\"Number of label 0 samples with reconstruction loss > threshold (false positives): {false_positives}\")\n",
        "print(f\"Total number of label 0 samples in the test sample: {total_label_0}\")\n",
        "print(f\"Percentage of label 0 samples predicted as anomalies (false positive rate): {(false_positives / total_label_0) * 100:.2f}%\")\n"
      ]
    },
    {
      "cell_type": "code",
      "execution_count": 31,
      "metadata": {
        "colab": {
          "base_uri": "https://localhost:8080/",
          "height": 607
        },
        "id": "X-Lj5x7Hh8Nv",
        "outputId": "4e84e20f-d725-45c8-c9ae-67df2dd648f1"
      },
      "outputs": [
        {
          "data": {
            "image/png": "[encoded data removed]",
            "text/plain": [
              "<Figure size 1000x600 with 1 Axes>"
            ]
          },
          "metadata": {},
          "output_type": "display_data"
        }
      ],
      "source": [
        "plt.figure(figsize=(10, 6))\n",
        "sns.histplot(df_test_sample[df_test_sample['label'] == 0]['reconstruction_loss'],\n",
        "             color='blue', label='Label 0 (Normal)', kde=True)\n",
        "sns.histplot(df_test_sample[df_test_sample['label'] == 1]['reconstruction_loss'],\n",
        "             color='red', label='Label 1 (Relapse)', kde=True)\n",
        "plt.axvline(x=threshold, color='green', linestyle='--', label=f\"Threshold = {threshold:.4f}\")\n",
        "plt.title('Reconstruction Loss Distribution by Label')\n",
        "plt.xlabel('Reconstruction Loss')\n",
        "plt.ylabel('Density')\n",
        "plt.legend()\n",
        "plt.tight_layout()\n",
        "plt.show()"
      ]
    },
    {
      "cell_type": "markdown",
      "metadata": {
        "id": "SzOrdyHOdtbx"
      },
      "source": [
        "Lets try to improve catching more anomalies by lowering the thresshold"
      ]
    },
    {
      "cell_type": "code",
      "execution_count": 32,
      "metadata": {
        "colab": {
          "base_uri": "https://localhost:8080/"
        },
        "id": "EKP3G7Eqd4ku",
        "outputId": "65f1f34a-5d0d-46c3-bbae-25d2d329aee5"
      },
      "outputs": [
        {
          "name": "stdout",
          "output_type": "stream",
          "text": [
            "\n",
            "Threshold based on 98th percentile of label 0 reconstruction loss: 0.4220\n",
            "\n",
            "Number of label 1 samples with reconstruction loss > threshold: 9\n",
            "Total number of label 1 samples in the test sample: 25\n",
            "Percentage of label 1 samples predicted as anomalies: 36.00%\n",
            "Number of label 0 samples with reconstruction loss > threshold (false positives): 1\n",
            "Total number of label 0 samples in the test sample: 25\n",
            "Percentage of label 0 samples predicted as anomalies (false positive rate): 4.00%\n"
          ]
        }
      ],
      "source": [
        "# Example: Set a threshold based on the 98th percentile of reconstruction loss for label 0\n",
        "threshold = df_test_sample[df_test_sample['label'] == 0]['reconstruction_loss'].quantile(0.98)\n",
        "print(f\"\\nThreshold based on 98th percentile of label 0 reconstruction loss: {threshold:.4f}\")\n",
        "\n",
        "# Count how many samples with label 1 have reconstruction loss above the threshold\n",
        "anomalies_predicted = df_test_sample[(df_test_sample['reconstruction_loss'] > threshold) & (df_test_sample['label'] == 1)].shape[0]\n",
        "total_label_1 = df_test_sample[df_test_sample['label'] == 1].shape[0]\n",
        "\n",
        "print(f\"\\nNumber of label 1 samples with reconstruction loss > threshold: {anomalies_predicted}\")\n",
        "print(f\"Total number of label 1 samples in the test sample: {total_label_1}\")\n",
        "print(f\"Percentage of label 1 samples predicted as anomalies: {(anomalies_predicted / total_label_1) * 100:.2f}%\")\n",
        "\n",
        "# Count how many samples with label 0 are incorrectly predicted as anomalies\n",
        "false_positives = df_test_sample[(df_test_sample['reconstruction_loss'] > threshold) & (df_test_sample['label'] == 0)].shape[0]\n",
        "total_label_0 = df_test_sample[df_test_sample['label'] == 0].shape[0]\n",
        "\n",
        "print(f\"Number of label 0 samples with reconstruction loss > threshold (false positives): {false_positives}\")\n",
        "print(f\"Total number of label 0 samples in the test sample: {total_label_0}\")\n",
        "print(f\"Percentage of label 0 samples predicted as anomalies (false positive rate): {(false_positives / total_label_0) * 100:.2f}%\")\n"
      ]
    },
    {
      "cell_type": "code",
      "execution_count": 33,
      "metadata": {
        "colab": {
          "base_uri": "https://localhost:8080/",
          "height": 607
        },
        "id": "KuiiXNRFiId1",
        "outputId": "fb9073ec-abd5-40fb-c11c-c7cf591be919"
      },
      "outputs": [
        {
          "data": {
            "image/png": "[encoded data removed]",
            "text/plain": [
              "<Figure size 1000x600 with 1 Axes>"
            ]
          },
          "metadata": {},
          "output_type": "display_data"
        }
      ],
      "source": [
        "plt.figure(figsize=(10, 6))\n",
        "sns.histplot(df_test_sample[df_test_sample['label'] == 0]['reconstruction_loss'],\n",
        "             color='blue', label='Label 0 (Normal)', kde=True)\n",
        "sns.histplot(df_test_sample[df_test_sample['label'] == 1]['reconstruction_loss'],\n",
        "             color='red', label='Label 1 (Relapse)', kde=True)\n",
        "plt.axvline(x=threshold, color='green', linestyle='--', label=f\"Threshold = {threshold:.4f}\")\n",
        "plt.title('Reconstruction Loss Distribution by Label')\n",
        "plt.xlabel('Reconstruction Loss')\n",
        "plt.ylabel('Density')\n",
        "plt.legend()\n",
        "plt.tight_layout()\n",
        "plt.show()"
      ]
    },
    {
      "cell_type": "markdown",
      "metadata": {
        "id": "z2BqQfqOeUfj"
      },
      "source": [
        "With the above thresshold change Recall decreased: We're missing more real anomalies (7 vs 9 detected).\n",
        "\n",
        "As we want to catch more anomalies for relapse bipolar prediction, we prefer the 95% threshold as it offers a better balance between sensitivity and specificity — detecting more true positives (36% of label 1 cases) while maintaining a reasonably low false positive rate (8%)."
      ]
    },
    {
      "cell_type": "markdown",
      "metadata": {
        "id": "M5dHzDwRe7kg"
      },
      "source": [
        "We know from the dataset that the severe symptoms of  the relapse are between \"2020-09-30\" and \"2020-10-29\".\n",
        "\n",
        "So let's test our autoencoder model on the severe symptoms"
      ]
    },
    {
      "cell_type": "code",
      "execution_count": 34,
      "metadata": {
        "colab": {
          "base_uri": "https://localhost:8080/"
        },
        "id": "rmJdWnbHfNiG",
        "outputId": "c6eedba3-4359-4548-ea74-d61581fff9e3"
      },
      "outputs": [
        {
          "name": "stdout",
          "output_type": "stream",
          "text": [
            "\n",
            " Analysis for relapse period: 2020-09-30 to 2020-10-29\n",
            "Label 1 samples: 23, True Positives: 11 (47.83%)\n",
            "N/A\n",
            "Mean loss (label 1): 0.4375\n",
            "Median loss (label 1): 0.3757\n"
          ]
        }
      ],
      "source": [
        "import pandas as pd\n",
        "\n",
        "# Define relapse period and anomaly threshold\n",
        "relapse_start = \"2020-09-30\"\n",
        "relapse_end = \"2020-10-29\"\n",
        "threshold = df_test_sample[df_test_sample['label'] == 0]['reconstruction_loss'].quantile(0.95)\n",
        "\n",
        "# Ensure datetime\n",
        "df_test_sample['date'] = pd.to_datetime(df_test_sample['date'])\n",
        "\n",
        "# Filter period\n",
        "df_period = df_test_sample[\n",
        "    (df_test_sample['date'] >= relapse_start) &\n",
        "    (df_test_sample['date'] <= relapse_end)\n",
        "]\n",
        "\n",
        "# Metrics\n",
        "relapse_label1 = df_period[df_period['label'] == 1]\n",
        "total_label_1 = relapse_label1.shape[0]\n",
        "true_positives = relapse_label1[relapse_label1['reconstruction_loss'] > threshold].shape[0]\n",
        "\n",
        "normal_label0 = df_period[df_period['label'] == 0]\n",
        "total_label_0 = normal_label0.shape[0]\n",
        "false_positives = normal_label0[normal_label0['reconstruction_loss'] > threshold].shape[0]\n",
        "\n",
        "# Results\n",
        "print(f\"\\n Analysis for relapse period: {relapse_start} to {relapse_end}\")\n",
        "print(f\"Label 1 samples: {total_label_1}, True Positives: {true_positives} ({(true_positives / total_label_1) * 100:.2f}%)\" if total_label_1 else \"N/A\")\n",
        "print(f\"Label 0 samples: {total_label_0}, False Positives: {false_positives} ({(false_positives / total_label_0) * 100:.2f}%)\" if total_label_0 else \"N/A\")\n",
        "print(f\"Mean loss (label 1): {relapse_label1['reconstruction_loss'].mean():.4f}\")\n",
        "print(f\"Median loss (label 1): {relapse_label1['reconstruction_loss'].median():.4f}\")\n"
      ]
    },
    {
      "cell_type": "markdown",
      "metadata": {
        "id": "tqMhw1CChCYI"
      },
      "source": [
        "Identify featuress that contribute to the anomalies to estimate the model behavioral understanding"
      ]
    },
    {
      "cell_type": "code",
      "execution_count": 35,
      "metadata": {
        "colab": {
          "base_uri": "https://localhost:8080/"
        },
        "collapsed": true,
        "id": "gcCoR1aGhs8q",
        "outputId": "bf169112-4e92-4336-b786-28f2e9e14cc1"
      },
      "outputs": [
        {
          "name": "stdout",
          "output_type": "stream",
          "text": [
            "Detected 11 anomalous label 1 samples in the relapse period.\n",
            "\u001b[1m1/1\u001b[0m \u001b[32m━━━━━━━━━━━━━━━━━━━━\u001b[0m\u001b[37m\u001b[0m \u001b[1m0s\u001b[0m 21ms/step\n",
            "\n",
            " Date: 2020-09-30 00:00:00 | Total Loss: 0.4973\n",
            "hr_mean                       0.365483\n",
            "hr_max                        0.100284\n",
            "hr_median                     0.097719\n",
            "total_distance                0.017482\n",
            "steps_walking                 0.011512\n",
            "total_calories                0.004913\n",
            "steps_running                 0.001386\n",
            "total_distance_was_invalid    0.000156\n",
            "steps_running_was_invalid     0.000093\n",
            "linacc_energy_was_zero        0.000087\n",
            "Name: 15, dtype: float64\n",
            "\n",
            " Date: 2020-10-02 00:00:00 | Total Loss: 2.2098\n",
            "hr_mean                       0.054563\n",
            "total_calories                0.017294\n",
            "hr_median                     0.012310\n",
            "total_distance                0.010332\n",
            "steps_walking                 0.004045\n",
            "steps_running                 0.000408\n",
            "steps_running_was_invalid     0.000139\n",
            "total_distance_was_invalid    0.000087\n",
            "hr_max                        0.000039\n",
            "gyr_var_was_zero              0.000026\n",
            "Name: 17, dtype: float64\n",
            "\n",
            " Date: 2020-10-03 00:00:00 | Total Loss: 0.3978\n",
            "hr_mean                       0.030884\n",
            "total_calories                0.016758\n",
            "total_distance                0.011982\n",
            "steps_walking                 0.010161\n",
            "hr_median                     0.002142\n",
            "steps_running                 0.001599\n",
            "hr_max                        0.000670\n",
            "total_distance_was_invalid    0.000156\n",
            "steps_running_was_invalid     0.000043\n",
            "total_calories_was_invalid    0.000038\n",
            "Name: 18, dtype: float64\n",
            "\n",
            " Date: 2020-10-05 00:00:00 | Total Loss: 1.0363\n",
            "steps_walking                 3.774787\n",
            "total_distance                2.822567\n",
            "total_calories                2.381486\n",
            "linacc_energy_was_zero        2.072824\n",
            "linacc_var_was_zero           2.001078\n",
            "gyr_energy_was_zero           1.996681\n",
            "gyr_var_was_zero              1.926767\n",
            "hr_min_was_zero               1.652663\n",
            "steps_running                 0.005234\n",
            "total_calories_was_invalid    0.004968\n",
            "Name: 20, dtype: float64\n",
            "\n",
            " Date: 2020-10-07 00:00:00 | Total Loss: 1.1560\n",
            "hr_min_was_zero               5.913186\n",
            "hr_mean                       3.013144\n",
            "hr_median                     2.694676\n",
            "steps_running_was_invalid     0.835932\n",
            "steps_running                 0.451921\n",
            "total_calories                0.037426\n",
            "steps_walking                 0.031450\n",
            "linacc_var_was_zero           0.024764\n",
            "linacc_energy_was_zero        0.024528\n",
            "total_calories_was_invalid    0.015173\n",
            "Name: 22, dtype: float64\n",
            "\n",
            " Date: 2020-10-08 00:00:00 | Total Loss: 1.5679\n",
            "hr_mean_was_zero      43.529299\n",
            "hr_max_was_zero       43.255528\n",
            "hr_median_was_zero    37.397744\n",
            "steps_walking          0.235060\n",
            "total_calories         0.206924\n",
            "total_distance         0.158814\n",
            "hr_max                 0.032255\n",
            "hr_mean                0.005565\n",
            "hr_min_was_zero        0.005293\n",
            "hr_median              0.002821\n",
            "Name: 23, dtype: float64\n",
            "\n",
            " Date: 2020-10-17 00:00:00 | Total Loss: 0.3825\n",
            "hr_max                       0.186111\n",
            "steps_walking                0.057035\n",
            "total_calories               0.053999\n",
            "total_distance               0.052608\n",
            "hr_median                    0.042924\n",
            "hr_mean                      0.009140\n",
            "steps_running_was_invalid    0.000392\n",
            "gyr_energy_was_zero          0.000320\n",
            "gyr_var_was_zero             0.000284\n",
            "hr_min_was_zero              0.000167\n",
            "Name: 29, dtype: float64\n",
            "\n",
            " Date: 2020-10-23 00:00:00 | Total Loss: 0.4270\n",
            "hr_max                        0.089265\n",
            "hr_median                     0.032053\n",
            "hr_mean                       0.004170\n",
            "total_calories                0.003960\n",
            "steps_running                 0.001321\n",
            "steps_walking                 0.000152\n",
            "total_distance_was_invalid    0.000108\n",
            "total_calories_was_invalid    0.000068\n",
            "steps_running_was_invalid     0.000032\n",
            "hr_max_was_zero               0.000019\n",
            "Name: 34, dtype: float64\n",
            "\n",
            " Date: 2020-10-24 00:00:00 | Total Loss: 0.7458\n",
            "hr_max                        0.838545\n",
            "hr_mean                       0.358282\n",
            "steps_running_was_invalid     0.280669\n",
            "hr_median                     0.132487\n",
            "steps_walking                 0.109806\n",
            "total_calories                0.109270\n",
            "total_distance                0.105648\n",
            "total_calories_was_invalid    0.000197\n",
            "steps_walking_was_invalid     0.000165\n",
            "total_distance_was_invalid    0.000111\n",
            "Name: 35, dtype: float64\n",
            "\n",
            " Date: 2020-10-25 00:00:00 | Total Loss: 0.3774\n",
            "hr_max                        0.482880\n",
            "hr_median                     0.077639\n",
            "hr_mean                       0.013341\n",
            "steps_walking                 0.007415\n",
            "total_calories                0.007393\n",
            "total_distance                0.006839\n",
            "steps_running                 0.001331\n",
            "total_distance_was_invalid    0.000100\n",
            "steps_running_was_invalid     0.000039\n",
            "hr_min_was_zero               0.000023\n",
            "Name: 36, dtype: float64\n",
            "\n",
            " Date: 2020-10-26 00:00:00 | Total Loss: 0.5227\n",
            "linacc_energy_was_zero       1.995833\n",
            "linacc_var_was_zero          1.940523\n",
            "gyr_energy_was_zero          1.939922\n",
            "gyr_var_was_zero             1.885852\n",
            "hr_min_was_zero              1.612136\n",
            "total_distance               0.002737\n",
            "steps_running                0.001894\n",
            "total_calories               0.000491\n",
            "steps_walking_was_invalid    0.000476\n",
            "hr_median                    0.000300\n",
            "Name: 37, dtype: float64\n",
            "\n",
            " Average Per-Feature Contribution Across All Relapse Anomalies:\n",
            "hr_mean_was_zero              3.957257\n",
            "hr_max_was_zero               3.933442\n",
            "hr_median_was_zero            3.399826\n",
            "hr_min_was_zero               0.834867\n",
            "steps_walking                 0.385597\n",
            "linacc_energy_was_zero        0.372291\n",
            "linacc_var_was_zero           0.360783\n",
            "gyr_energy_was_zero           0.357991\n",
            "hr_mean                       0.350453\n",
            "gyr_var_was_zero              0.347119\n",
            "total_distance                0.290087\n",
            "hr_median                     0.281371\n",
            "total_calories                0.258174\n",
            "hr_max                        0.157450\n",
            "steps_running_was_invalid     0.101865\n",
            "steps_running                 0.042306\n",
            "total_calories_was_invalid    0.001966\n",
            "steps_walking_was_invalid     0.000569\n",
            "total_distance_was_invalid    0.000277\n",
            "gyr_energy                    0.000093\n",
            "linacc_max                    0.000089\n",
            "gyr_var                       0.000037\n",
            "linacc_var                    0.000036\n",
            "gyr_max                       0.000035\n",
            "linacc_energy                 0.000006\n",
            "dtype: float64\n"
          ]
        }
      ],
      "source": [
        "import pandas as pd\n",
        "import numpy as np\n",
        "\n",
        "# 1. Define relapse period and threshold\n",
        "relapse_start = \"2020-09-30\"\n",
        "relapse_end = \"2020-10-29\"\n",
        "threshold = df_test_sample[df_test_sample['label'] == 0]['reconstruction_loss'].quantile(0.95)\n",
        "\n",
        "# 2. Filter test set to label 1 samples during relapse period\n",
        "df_relapse_label1 = df_test_sample[\n",
        "    (df_test_sample['label'] == 1) &\n",
        "    (df_test_sample['date'] >= relapse_start) &\n",
        "    (df_test_sample['date'] <= relapse_end)\n",
        "]\n",
        "\n",
        "# 3. Keep only anomalies (label 1 with loss > threshold)\n",
        "anomalous_relapse_samples = df_relapse_label1[df_relapse_label1['reconstruction_loss'] > threshold]\n",
        "anomalous_indices = anomalous_relapse_samples.index\n",
        "\n",
        "if len(anomalous_indices) == 0:\n",
        "    print(\"No label 1 anomalies detected in the relapse period.\")\n",
        "else:\n",
        "    print(f\"Detected {len(anomalous_indices)} anomalous label 1 samples in the relapse period.\")\n",
        "\n",
        "    # 4. Define feature columns used in the autoencoder (exclude non-feature columns)\n",
        "    non_feature_cols = ['label', 'date', 'reconstruction_loss']\n",
        "    feature_cols = [col for col in df_test_sample.columns if col not in non_feature_cols]\n",
        "\n",
        "    # 5. Get scaled input for those rows\n",
        "    X_eval_scaled = scaler.transform(df_test_sample[feature_cols])\n",
        "\n",
        "    # 6. Select only anomalous samples\n",
        "    X_anomalous_scaled = X_eval_scaled[anomalous_indices]\n",
        "    X_anomalous_pred = autoencoder.predict(X_anomalous_scaled)\n",
        "\n",
        "    # 7. Compute per-feature squared errors\n",
        "    squared_errors = np.square(X_anomalous_scaled - X_anomalous_pred)\n",
        "    squared_errors_df = pd.DataFrame(squared_errors, columns=feature_cols, index=anomalous_indices)\n",
        "\n",
        "    # 8. Print top contributing features for each anomaly\n",
        "    for idx in anomalous_indices:\n",
        "        date = df_test_sample.loc[idx, 'date']\n",
        "        loss = df_test_sample.loc[idx, 'reconstruction_loss']\n",
        "        print(f\"\\n Date: {date} | Total Loss: {loss:.4f}\")\n",
        "        print(squared_errors_df.loc[idx].sort_values(ascending=False).head(10))\n",
        "\n",
        "    # 9. Mean contribution across all anomalies\n",
        "    avg_contrib = squared_errors_df.mean().sort_values(ascending=False)\n",
        "    print(\"\\n Average Per-Feature Contribution Across All Relapse Anomalies:\")\n",
        "    print(avg_contrib)\n"
      ]
    },
    {
      "cell_type": "code",
      "execution_count": 36,
      "metadata": {
        "colab": {
          "base_uri": "https://localhost:8080/"
        },
        "id": "DKoc66SekEHx",
        "outputId": "c79d7a7e-9124-4313-b529-1b57a81bed42"
      },
      "outputs": [
        {
          "name": "stdout",
          "output_type": "stream",
          "text": [
            "\n",
            " Feature-wise Reconstruction Error Comparison:\n",
            "                        mean_error_label_1  mean_error_label_0  \\\n",
            "steps_running                     4.825238            0.087663   \n",
            "hr_mean_was_zero                  1.741251            0.000034   \n",
            "hr_max_was_zero                   1.731070            0.000481   \n",
            "hr_median_was_zero                1.496115            0.000005   \n",
            "total_distance                    0.455797            0.044943   \n",
            "total_calories                    0.445177            0.080422   \n",
            "steps_walking                     0.394530            0.035181   \n",
            "hr_median                         0.429054            0.112067   \n",
            "hr_min_was_zero                   0.778321            0.465965   \n",
            "hr_mean                           0.448238            0.144317   \n",
            "linacc_energy_was_zero            0.574752            0.322036   \n",
            "linacc_var_was_zero               0.556054            0.312683   \n",
            "gyr_var_was_zero                  0.412509            0.302936   \n",
            "gyr_energy_was_zero               0.417289            0.311037   \n",
            "hr_max                            0.554975            0.505367   \n",
            "\n",
            "                        difference (label1 - label0)  \n",
            "steps_running                               4.737575  \n",
            "hr_mean_was_zero                            1.741217  \n",
            "hr_max_was_zero                             1.730589  \n",
            "hr_median_was_zero                          1.496110  \n",
            "total_distance                              0.410854  \n",
            "total_calories                              0.364756  \n",
            "steps_walking                               0.359348  \n",
            "hr_median                                   0.316987  \n",
            "hr_min_was_zero                             0.312356  \n",
            "hr_mean                                     0.303920  \n",
            "linacc_energy_was_zero                      0.252717  \n",
            "linacc_var_was_zero                         0.243371  \n",
            "gyr_var_was_zero                            0.109572  \n",
            "gyr_energy_was_zero                         0.106252  \n",
            "hr_max                                      0.049608  \n"
          ]
        }
      ],
      "source": [
        "import pandas as pd\n",
        "import numpy as np\n",
        "\n",
        "# Compute per-feature squared errors\n",
        "# Ensure columns_used matches the shape of X_test_sample_scaled\n",
        "columns_used = df_test_sample.drop(columns=['label', 'date']).columns[:X_test_sample_scaled.shape[1]].tolist()\n",
        "\n",
        "squared_errors = np.square(X_test_sample_scaled - X_test_sample_pred)\n",
        "squared_errors_df = pd.DataFrame(squared_errors, columns=columns_used)\n",
        "\n",
        "# Add labels to the squared error DataFrame\n",
        "squared_errors_df['label'] = df_test_sample['label'].values\n",
        "\n",
        "# Calculate mean error per feature for each class\n",
        "mean_errors_label1 = squared_errors_df[squared_errors_df['label'] == 1].drop(columns='label').mean()\n",
        "mean_errors_label0 = squared_errors_df[squared_errors_df['label'] == 0].drop(columns='label').mean()\n",
        "\n",
        "# Combine into a DataFrame for comparison\n",
        "comparison_df = pd.DataFrame({\n",
        "    'mean_error_label_1': mean_errors_label1,\n",
        "    'mean_error_label_0': mean_errors_label0,\n",
        "    'difference (label1 - label0)': mean_errors_label1 - mean_errors_label0\n",
        "}).sort_values(by='difference (label1 - label0)', ascending=False)\n",
        "\n",
        "# Display top features that contribute more to anomalies than normal\n",
        "print(\"\\n Feature-wise Reconstruction Error Comparison:\")\n",
        "print(comparison_df.head(15))\n"
      ]
    },
    {
      "cell_type": "markdown",
      "metadata": {
        "id": "CmjxjAbqk9eW"
      },
      "source": [
        "We see that the autoencoder is responding to both actual values (steps_running, total_distance) and to data quality flags (*_was_zero).\n",
        "\n",
        "For the steps made this seems like a major signal in relapse. Possibly unusual activity.\n",
        "\n",
        "For the binary flags created during dataframe preprocessing to state that they were imputed values we need to do some more analysis to understand why they do have so much predictive power.\n"
      ]
    },
    {
      "cell_type": "code",
      "execution_count": 37,
      "metadata": {
        "colab": {
          "base_uri": "https://localhost:8080/",
          "height": 1000
        },
        "id": "CCwgpFOUlVtS",
        "outputId": "f7def548-5457-4abd-a64f-d351b9444425"
      },
      "outputs": [
        {
          "name": "stdout",
          "output_type": "stream",
          "text": [
            "\n",
            " Frequency of *_was_zero or *_was_invalid Columns (Label 1 vs Label 0):\n",
            "                       feature  percent_1  percent_0  diff\n",
            "6          linacc_var_was_zero       0.24       0.16  0.08\n",
            "7       linacc_energy_was_zero       0.24       0.16  0.08\n",
            "4             gyr_var_was_zero       0.20       0.16  0.04\n",
            "5          gyr_energy_was_zero       0.20       0.16  0.04\n",
            "2              hr_max_was_zero       0.04       0.00  0.04\n",
            "3           hr_median_was_zero       0.04       0.00  0.04\n",
            "0             hr_mean_was_zero       0.04       0.00  0.04\n",
            "8    steps_walking_was_invalid       0.00       0.00  0.00\n",
            "11  total_calories_was_invalid       0.00       0.00  0.00\n",
            "10  total_distance_was_invalid       0.00       0.00  0.00\n",
            "1              hr_min_was_zero       0.72       0.80 -0.08\n",
            "9    steps_running_was_invalid       0.04       0.24 -0.20\n",
            "\n",
            " Feature-wise Error Difference (With All Features):\n",
            "                        mean_error_label_1  mean_error_label_0  \\\n",
            "steps_running                     4.825238            0.087663   \n",
            "hr_mean_was_zero                  1.741251            0.000034   \n",
            "hr_max_was_zero                   1.731070            0.000481   \n",
            "hr_median_was_zero                1.496115            0.000005   \n",
            "total_distance                    0.455797            0.044943   \n",
            "total_calories                    0.445177            0.080422   \n",
            "steps_walking                     0.394530            0.035181   \n",
            "hr_median                         0.429054            0.112067   \n",
            "hr_min_was_zero                   0.778321            0.465965   \n",
            "hr_mean                           0.448238            0.144317   \n",
            "linacc_energy_was_zero            0.574752            0.322036   \n",
            "linacc_var_was_zero               0.556054            0.312683   \n",
            "gyr_var_was_zero                  0.412509            0.302936   \n",
            "gyr_energy_was_zero               0.417289            0.311037   \n",
            "hr_max                            0.554975            0.505367   \n",
            "\n",
            "                        diff (label1 - label0)  \n",
            "steps_running                         4.737575  \n",
            "hr_mean_was_zero                      1.741217  \n",
            "hr_max_was_zero                       1.730589  \n",
            "hr_median_was_zero                    1.496110  \n",
            "total_distance                        0.410854  \n",
            "total_calories                        0.364756  \n",
            "steps_walking                         0.359348  \n",
            "hr_median                             0.316987  \n",
            "hr_min_was_zero                       0.312356  \n",
            "hr_mean                               0.303920  \n",
            "linacc_energy_was_zero                0.252717  \n",
            "linacc_var_was_zero                   0.243371  \n",
            "gyr_var_was_zero                      0.109572  \n",
            "gyr_energy_was_zero                   0.106252  \n",
            "hr_max                                0.049608  \n",
            "\n",
            " Feature-wise Error Difference (Without *_was_zero/_was_invalid Features):\n",
            "                mean_error_label_1  mean_error_label_0  diff (label1 - label0)\n",
            "steps_running             4.825238            0.087663                4.737575\n",
            "total_distance            0.455797            0.044943                0.410854\n",
            "total_calories            0.445177            0.080422                0.364756\n",
            "steps_walking             0.394530            0.035181                0.359348\n",
            "hr_median                 0.429054            0.112067                0.316987\n",
            "hr_mean                   0.448238            0.144317                0.303920\n",
            "hr_max                    0.554975            0.505367                0.049608\n",
            "gyr_max                   0.000241            0.000022                0.000218\n",
            "linacc_var                0.000161            0.000008                0.000153\n",
            "linacc_energy             0.000172            0.000019                0.000153\n",
            "gyr_energy                0.000148            0.000044                0.000104\n",
            "gyr_var                   0.000075            0.000012                0.000063\n",
            "linacc_max                0.000044            0.000034                0.000010\n"
          ]
        },
        {
          "data": {
            "image/png": "[encoded data removed]",
            "text/plain": [
              "<Figure size 1000x600 with 1 Axes>"
            ]
          },
          "metadata": {},
          "output_type": "display_data"
        }
      ],
      "source": [
        "import pandas as pd\n",
        "import numpy as np\n",
        "import matplotlib.pyplot as plt\n",
        "\n",
        "# -- Inputs assumed to be defined --\n",
        "# X_test_sample_scaled: Scaled input\n",
        "# X_test_sample_pred: Autoencoder reconstruction\n",
        "# df_test_sample: DataFrame with 'label' and 'date'\n",
        "\n",
        "# -------------------------------\n",
        "# 0. Align columns_used with the model input shape\n",
        "all_columns = df_test_sample.drop(columns=['label', 'date']).columns.tolist()\n",
        "if X_test_sample_scaled.shape[1] < len(all_columns):\n",
        "    columns_used = all_columns[:X_test_sample_scaled.shape[1]]\n",
        "else:\n",
        "    columns_used = all_columns\n",
        "\n",
        "# -------------------------------\n",
        "# 1. Count how often *_was_zero == 1 for each class\n",
        "was_zero_cols = [col for col in columns_used if col.endswith('_was_zero') or col.endswith('_was_invalid')]\n",
        "\n",
        "was_zero_stats = []\n",
        "for col in was_zero_cols:\n",
        "    pct_label_1 = df_test_sample[df_test_sample['label'] == 1][col].mean()\n",
        "    pct_label_0 = df_test_sample[df_test_sample['label'] == 0][col].mean()\n",
        "    was_zero_stats.append({\n",
        "        'feature': col,\n",
        "        'percent_1': pct_label_1,\n",
        "        'percent_0': pct_label_0,\n",
        "        'diff': pct_label_1 - pct_label_0\n",
        "    })\n",
        "\n",
        "was_zero_df = pd.DataFrame(was_zero_stats).sort_values(by='diff', ascending=False)\n",
        "print(\"\\n Frequency of *_was_zero or *_was_invalid Columns (Label 1 vs Label 0):\")\n",
        "print(was_zero_df)\n",
        "\n",
        "# -------------------------------\n",
        "# 2. Reconstruction error analysis with ALL columns\n",
        "squared_errors_all = np.square(X_test_sample_scaled - X_test_sample_pred)\n",
        "squared_errors_df_all = pd.DataFrame(squared_errors_all, columns=columns_used)\n",
        "squared_errors_df_all['label'] = df_test_sample['label'].values\n",
        "\n",
        "mean_err_1_all = squared_errors_df_all[squared_errors_df_all['label'] == 1].drop(columns='label').mean()\n",
        "mean_err_0_all = squared_errors_df_all[squared_errors_df_all['label'] == 0].drop(columns='label').mean()\n",
        "\n",
        "comparison_all = pd.DataFrame({\n",
        "    'mean_error_label_1': mean_err_1_all,\n",
        "    'mean_error_label_0': mean_err_0_all,\n",
        "    'diff (label1 - label0)': mean_err_1_all - mean_err_0_all\n",
        "}).sort_values(by='diff (label1 - label0)', ascending=False)\n",
        "\n",
        "print(\"\\n Feature-wise Error Difference (With All Features):\")\n",
        "print(comparison_all.head(15))\n",
        "\n",
        "# -------------------------------\n",
        "# 3. Reconstruction error after removing *_was_zero/_was_invalid\n",
        "filtered_columns = [col for col in columns_used if col not in was_zero_cols]\n",
        "\n",
        "squared_errors_filtered = pd.DataFrame(squared_errors_all, columns=columns_used)[filtered_columns]\n",
        "squared_errors_filtered['label'] = df_test_sample['label'].values\n",
        "\n",
        "mean_err_1_filt = squared_errors_filtered[squared_errors_filtered['label'] == 1].drop(columns='label').mean()\n",
        "mean_err_0_filt = squared_errors_filtered[squared_errors_filtered['label'] == 0].drop(columns='label').mean()\n",
        "\n",
        "comparison_filtered = pd.DataFrame({\n",
        "    'mean_error_label_1': mean_err_1_filt,\n",
        "    'mean_error_label_0': mean_err_0_filt,\n",
        "    'diff (label1 - label0)': mean_err_1_filt - mean_err_0_filt\n",
        "}).sort_values(by='diff (label1 - label0)', ascending=False)\n",
        "\n",
        "print(\"\\n Feature-wise Error Difference (Without *_was_zero/_was_invalid Features):\")\n",
        "print(comparison_filtered.head(15))\n",
        "\n",
        "# -------------------------------\n",
        "# 4.  Plot both comparisons side-by-side (Top 10 features only)\n",
        "top_features_all = comparison_all.head(10)['diff (label1 - label0)']\n",
        "top_features_filt = comparison_filtered.reindex(top_features_all.index)['diff (label1 - label0)']\n",
        "\n",
        "df_plot = pd.DataFrame({\n",
        "    'With *_was_zero': top_features_all,\n",
        "    'Without *_was_zero': top_features_filt\n",
        "})\n",
        "\n",
        "df_plot.plot(kind='barh', figsize=(10, 6), title='Feature Error Differences: With vs Without *_was_zero Columns')\n",
        "plt.xlabel('Reconstruction Error Difference (Label 1 - Label 0)')\n",
        "plt.tight_layout()\n",
        "plt.show()\n"
      ]
    },
    {
      "cell_type": "markdown",
      "metadata": {
        "id": "Hp_kXE5tmk5T"
      },
      "source": [
        "Now we can create a simple alert generation system using the reconstruction loss and anomaly threshold."
      ]
    },
    {
      "cell_type": "code",
      "execution_count": 38,
      "metadata": {
        "colab": {
          "base_uri": "https://localhost:8080/"
        },
        "id": "-WPm4JrWmk_3",
        "outputId": "4715caa1-ea16-4242-9beb-fedc5b2f3296"
      },
      "outputs": [
        {
          "name": "stdout",
          "output_type": "stream",
          "text": [
            " Evaluation Metrics:\n",
            " Precision: 0.857\n",
            " Recall:    0.480\n",
            " F1 Score:  0.615\n",
            " ROC AUC:   0.690\n",
            "\n",
            " Confusion Matrix:\n",
            "[[23  2]\n",
            " [13 12]]\n",
            " Monitoring Period: 2020-09-30 to 2020-10-29\n",
            "Total days monitored: 23\n",
            "Anomaly alerts triggered: 11\n",
            "Alert rate: 47.83%\n",
            "\n",
            "************* Alert Triggered On Dates:\n",
            "[datetime.date(2020, 9, 30), datetime.date(2020, 10, 2), datetime.date(2020, 10, 3), datetime.date(2020, 10, 5), datetime.date(2020, 10, 7), datetime.date(2020, 10, 8), datetime.date(2020, 10, 17), datetime.date(2020, 10, 23), datetime.date(2020, 10, 24), datetime.date(2020, 10, 25), datetime.date(2020, 10, 26)]\n"
          ]
        }
      ],
      "source": [
        "# lets check if alert is used during the relapse period\n",
        "import pandas as pd\n",
        "from sklearn.metrics import precision_score, recall_score, f1_score, roc_auc_score, confusion_matrix\n",
        "\n",
        "# Step 0: Convert 'date' column to datetime\n",
        "df_test_sample['date'] = pd.to_datetime(df_test_sample['date'])\n",
        "\n",
        "# Step 1: Set threshold based on label 0 (normal)\n",
        "threshold = df_test_sample[df_test_sample['label'] == 0]['reconstruction_loss'].quantile(0.95)\n",
        "\n",
        "# Step 2: Add alert column\n",
        "df_test_sample['alert'] = df_test_sample['reconstruction_loss'] > threshold\n",
        "\n",
        "# 1. Define predictions and ground truth\n",
        "y_true = df_test_sample['label'].values              # 0 = normal, 1 = relapse\n",
        "y_pred = df_test_sample['alert'].astype(int).values  # 1 = alert, 0 = no alert\n",
        "\n",
        "# 2. Compute standard metrics\n",
        "precision = precision_score(y_true, y_pred, zero_division=0)\n",
        "recall = recall_score(y_true, y_pred, zero_division=0)\n",
        "f1 = f1_score(y_true, y_pred, zero_division=0)\n",
        "\n",
        "# 3. Compute AUC using reconstruction loss\n",
        "# Higher loss = more likely to be relapse, so this works for auc\n",
        "roc_auc = roc_auc_score(y_true, df_test_sample['reconstruction_loss'])\n",
        "\n",
        "# 4. Optional: Confusion matrix\n",
        "cm = confusion_matrix(y_true, y_pred)\n",
        "\n",
        "# 5. Print results\n",
        "print(f\" Evaluation Metrics:\")\n",
        "print(f\" Precision: {precision:.3f}\")\n",
        "print(f\" Recall:    {recall:.3f}\")\n",
        "print(f\" F1 Score:  {f1:.3f}\")\n",
        "print(f\" ROC AUC:   {roc_auc:.3f}\")\n",
        "print(f\"\\n Confusion Matrix:\\n{cm}\")\n",
        "\n",
        "# Step 3: Filter a relapse monitoring period\n",
        "monitor_start = pd.to_datetime(\"2020-09-30\")\n",
        "monitor_end = pd.to_datetime(\"2020-10-29\")\n",
        "\n",
        "df_monitor = df_test_sample[\n",
        "    (df_test_sample['date'] >= monitor_start) &\n",
        "    (df_test_sample['date'] <= monitor_end)\n",
        "]\n",
        "\n",
        "# Step 4: Summary\n",
        "total_days = df_monitor.shape[0]\n",
        "alert_days = df_monitor['alert'].sum()\n",
        "\n",
        "print(f\" Monitoring Period: {monitor_start.date()} to {monitor_end.date()}\")\n",
        "print(f\"Total days monitored: {total_days}\")\n",
        "print(f\"Anomaly alerts triggered: {alert_days}\")\n",
        "print(f\"Alert rate: {100 * alert_days / total_days:.2f}%\")\n",
        "\n",
        "# Step 5: Optional — list dates with alerts\n",
        "print(\"\\n************* Alert Triggered On Dates:\")\n",
        "print(df_monitor[df_monitor['alert']]['date'].dt.date.tolist())\n"
      ]
    },
    {
      "cell_type": "code",
      "execution_count": 39,
      "metadata": {
        "colab": {
          "base_uri": "https://localhost:8080/"
        },
        "id": "0GUgwORHnl7W",
        "outputId": "7929b7b5-8d15-4322-c9ae-6c228a3e88e7"
      },
      "outputs": [
        {
          "name": "stdout",
          "output_type": "stream",
          "text": [
            "\n",
            " Full Dataset Alert Summary\n",
            "Total days in dataset: 50\n",
            "Total anomaly alerts triggered: 14\n",
            "Total relapse (label=1) days: 25\n",
            "Overall alert rate: 28.00%\n",
            "\n",
            " Alerts Breakdown by True Label:\n",
            "Label 1: 12 alerts\n",
            "Label 0: 2 alerts\n",
            "\n",
            " All Alert Dates:\n",
            "[datetime.date(2020, 9, 30), datetime.date(2020, 10, 2), datetime.date(2020, 10, 3), datetime.date(2020, 10, 5), datetime.date(2020, 10, 7), datetime.date(2020, 10, 8), datetime.date(2020, 10, 17), datetime.date(2020, 10, 23), datetime.date(2020, 10, 24), datetime.date(2020, 10, 25), datetime.date(2020, 10, 26), datetime.date(2021, 3, 14), datetime.date(2022, 5, 30), datetime.date(2022, 9, 15)]\n"
          ]
        }
      ],
      "source": [
        "# Now lets run the alert on all our data\n",
        "\n",
        "# Step 6: Evaluate alert triggers over the entire dataset\n",
        "full_alerts = df_test_sample[df_test_sample['alert']]\n",
        "\n",
        "# Count of alerts across all dates\n",
        "total_alerts = full_alerts.shape[0]\n",
        "total_days = df_test_sample.shape[0]\n",
        "total_relapse_days = df_test_sample[df_test_sample['label'] == 1].shape[0]\n",
        "print(\"\\n Full Dataset Alert Summary\")\n",
        "print(f\"Total days in dataset: {total_days}\")\n",
        "print(f\"Total anomaly alerts triggered: {total_alerts}\")\n",
        "print(f\"Total relapse (label=1) days: {total_relapse_days}\")\n",
        "print(f\"Overall alert rate: {100 * total_alerts / total_days:.2f}%\")\n",
        "\n",
        "# Breakdown by label\n",
        "label_alerts = full_alerts['label'].value_counts()\n",
        "print(\"\\n Alerts Breakdown by True Label:\")\n",
        "for lbl in [1, 0]:\n",
        "    count = label_alerts.get(lbl, 0)\n",
        "    print(f\"Label {lbl}: {count} alerts\")\n",
        "\n",
        "# Step 7: Optional — print the dates of alerts\n",
        "print(\"\\n All Alert Dates:\")\n",
        "print(full_alerts['date'].dt.date.tolist())\n"
      ]
    },
    {
      "cell_type": "code",
      "execution_count": 40,
      "metadata": {
        "colab": {
          "base_uri": "https://localhost:8080/",
          "height": 607
        },
        "id": "cd9qjaQXoSRG",
        "outputId": "651f1910-9fee-4ddf-d742-ab8382bec7e0"
      },
      "outputs": [
        {
          "data": {
            "image/png": "[encoded data removed]",
            "text/plain": [
              "<Figure size 1400x600 with 1 Axes>"
            ]
          },
          "metadata": {},
          "output_type": "display_data"
        }
      ],
      "source": [
        "import matplotlib.pyplot as plt\n",
        "import pandas as pd\n",
        "\n",
        "# Ensure 'date' is datetime and sorted\n",
        "df_test_sample['date'] = pd.to_datetime(df_test_sample['date'])\n",
        "df_test_sample = df_test_sample.sort_values('date')\n",
        "df_test_sample = df_test_sample[df_test_sample['date'] >= pd.to_datetime(\"2020-01-01\")]\n",
        "\n",
        "# Define your relapse windows\n",
        "relapse_windows = [\n",
        "    (\"2020-09-30\", \"2020-10-29\"),\n",
        "    (\"2021-03-13\", \"2021-03-18\"),\n",
        "]\n",
        "\n",
        "# Convert to datetime tuples\n",
        "relapse_windows = [(pd.to_datetime(start), pd.to_datetime(end)) for start, end in relapse_windows]\n",
        "\n",
        "# Create plot\n",
        "plt.figure(figsize=(14, 6))\n",
        "plt.plot(df_test_sample['date'], df_test_sample['reconstruction_loss'], label='Reconstruction Loss', color='blue')\n",
        "\n",
        "# Highlight relapse periods\n",
        "for start, end in relapse_windows:\n",
        "    plt.axvspan(start, end, color='orange', alpha=0.3, label='Relapse Period' if start == relapse_windows[0][0] else \"\")\n",
        "\n",
        "# Mark alert points\n",
        "alert_dates = df_test_sample[df_test_sample['alert']]['date']\n",
        "alert_losses = df_test_sample[df_test_sample['alert']]['reconstruction_loss']\n",
        "plt.scatter(alert_dates, alert_losses, color='red', marker='o', label='Alert Triggered')\n",
        "\n",
        "# Labels and legend\n",
        "plt.title(\"Anomaly Alerts During Known Relapse Windows\")\n",
        "plt.xlabel(\"Date\")\n",
        "plt.ylabel(\"Reconstruction Loss\")\n",
        "plt.legend()\n",
        "plt.grid(True)\n",
        "plt.tight_layout()\n",
        "plt.show()\n"
      ]
    },
    {
      "cell_type": "code",
      "execution_count": 41,
      "metadata": {
        "colab": {
          "base_uri": "https://localhost:8080/"
        },
        "id": "u03JSvnOopjr",
        "outputId": "f4acbd96-9771-44c4-99d2-963d35ef4d7e"
      },
      "outputs": [
        {
          "name": "stdout",
          "output_type": "stream",
          "text": [
            "\n",
            " Alert Threshold (95th percentile of label 0 loss): 0.3774\n",
            "\n",
            "🔍 Explanation of Alerts Outside Known Relapse Periods:\n",
            "\n",
            " Alert Date: 2022-05-30 | Total Loss: 0.3775 | Threshold: 0.3774\n",
            "   steps_running: 2.0548\n",
            "   linacc_energy_was_zero: 1.9944\n",
            "   linacc_var_was_zero: 1.9395\n",
            "   gyr_energy_was_zero: 1.9391\n",
            "   gyr_var_was_zero: 1.8851\n",
            "   hr_min_was_zero: 1.6114\n",
            "   steps_walking: 0.1253\n",
            "   total_calories: 0.0168\n",
            "--------------------------------------------------\n",
            " Alert Date: 2022-09-15 | Total Loss: 0.4631 | Threshold: 0.3774\n",
            "   hr_max: 3.3907\n",
            "   steps_running_was_invalid: 0.2786\n",
            "   steps_walking: 0.1270\n",
            "   total_distance: 0.1238\n",
            "   total_calories: 0.1232\n",
            "   hr_mean: 0.0438\n",
            "   hr_median: 0.0195\n",
            "   linacc_energy_was_zero: 0.0003\n",
            "--------------------------------------------------\n"
          ]
        }
      ],
      "source": [
        "import pandas as pd\n",
        "import numpy as np\n",
        "\n",
        "# Ensure 'date' column is datetime\n",
        "df_test_sample['date'] = pd.to_datetime(df_test_sample['date'])\n",
        "\n",
        "# 1. Define relapse periods\n",
        "relapse_periods = [\n",
        "    (pd.to_datetime(\"2020-09-30\"), pd.to_datetime(\"2020-10-29\")),\n",
        "    (pd.to_datetime(\"2021-03-13\"), pd.to_datetime(\"2021-03-18\"))\n",
        "]\n",
        "\n",
        "# 2. Compute alert threshold from label=0 samples\n",
        "threshold = df_test_sample[df_test_sample['label'] == 0]['reconstruction_loss'].quantile(0.95)\n",
        "print(f\"\\n Alert Threshold (95th percentile of label 0 loss): {threshold:.4f}\\n\")\n",
        "\n",
        "# 3. Helper function to check if a date falls within any relapse period\n",
        "def is_in_relapse(date, periods):\n",
        "    return any(start <= date <= end for start, end in periods)\n",
        "\n",
        "# 4. Use reset-index DataFrame for position-safe indexing\n",
        "df_temp = df_test_sample.reset_index(drop=True)\n",
        "\n",
        "# 5. Find positions where alert was triggered outside any relapse period\n",
        "alert_mask = df_temp['alert'] & (~df_temp['date'].apply(lambda d: is_in_relapse(d, relapse_periods)))\n",
        "alert_positions = df_temp[alert_mask].index\n",
        "\n",
        "# 6. Subset scaled arrays using positions\n",
        "X_alert_outside = X_test_sample_scaled[alert_positions]\n",
        "X_alert_outside_pred = X_test_sample_pred[alert_positions]\n",
        "\n",
        "# 7. Recalculate per-feature squared errors\n",
        "columns_used = df_temp.drop(columns=['label', 'date', 'reconstruction_loss', 'alert']).columns.tolist()\n",
        "squared_errors = np.square(X_alert_outside - X_alert_outside_pred)\n",
        "\n",
        "squared_errors_df = pd.DataFrame(squared_errors, columns=columns_used)\n",
        "squared_errors_df['date'] = df_temp.iloc[alert_positions]['date'].values\n",
        "\n",
        "# 8. Combine reconstruction loss + squared error info\n",
        "merged_alerts = pd.concat([\n",
        "    df_temp.iloc[alert_positions][['date', 'reconstruction_loss']].reset_index(drop=True),\n",
        "    squared_errors_df.reset_index(drop=True).drop(columns=['date'])  # Drop duplicate 'date'\n",
        "], axis=1)\n",
        "\n",
        "# 9. Ensure 'date' column is datetime (should now work safely)\n",
        "merged_alerts['date'] = pd.to_datetime(merged_alerts['date'])\n",
        "print(\"🔍 Explanation of Alerts Outside Known Relapse Periods:\\n\")\n",
        "\n",
        "TOP_N = 8\n",
        "for _, row in merged_alerts.iterrows():\n",
        "    date = row['date'].date()\n",
        "    loss = row['reconstruction_loss']\n",
        "    feature_errors = row.drop(['date', 'reconstruction_loss']).sort_values(ascending=False)\n",
        "    top_features = feature_errors.head(TOP_N)\n",
        "\n",
        "    print(f\" Alert Date: {date} | Total Loss: {loss:.4f} | Threshold: {threshold:.4f}\")\n",
        "    for feat, err in top_features.items():\n",
        "        print(f\"   {feat}: {err:.4f}\")\n",
        "    print(\"-\" * 50)\n"
      ]
    },
    {
      "cell_type": "markdown",
      "metadata": {
        "id": "O2hg9NoJtIq2"
      },
      "source": [
        "Conclusion\n",
        "\n",
        "Based on the autoencoder reconstruction loss thresholding, we were able to identify anomalies aligned with relapse periods in 39.13% of monitored days. Although the classifier did not generalize well, this highlights the challenge of limited labeled relapse data and motivates future work on incorporating temporal or multimodal signals.\n",
        "\n",
        "Although the overall accuracy and F1 score of the relapse detection system were low, this is expected given the nature of the task. The model was trained in an unsupervised fashion using only normal (non-relapse) data. Consequently, it was never directly exposed to relapse events during training. As a result, while the model can recognize deviations from normal patterns via reconstruction loss, it may not generalize well to all types of relapse events. Additionally, the dataset is highly imbalanced, with very few relapse days compared to normal days, making the detection task even more challenging.\n",
        "\n",
        "As a future work, we should definitely introduce more sophisticated mechanisms than just a simple threshold. Potential improvements include learning dynamic or personalized thresholds based on user-specific baselines, or integrating temporal models (such as LSTM autoencoders or attention-based architectures) that can better capture sequential patterns leading up to a relapse. Moreover, the use of multimodal signals—such as mood, activity, sleep, and physiological indicators—can offer a more comprehensive picture of patient behavior. Collecting and incorporating data from a larger and more diverse population of patients would improve model generalization and robustness, helping to identify common patterns while still allowing for personalized detection. Finally, semi-supervised or hybrid approaches that combine unsupervised anomaly detection with limited relapse labels could offer a more balanced and effective solution."
      ]
    },
    {
      "cell_type": "markdown",
      "metadata": {
        "id": "wVUmCs1K0EdR"
      },
      "source": [
        "****Outcomes Summary****\n",
        "\n",
        "The current system is naive because:\n",
        "\n",
        "*  Is trained on data from a single patient (or small cohort).\n",
        "\n",
        "*  Uses reconstruction loss thresholds to detect anomalies only.\n",
        "\n",
        "*  Achieves some detection of relapse days but requires improvement.\n",
        "\n",
        "Challenges that lead to low performance:\n",
        "\n",
        "*  Class imbalance and rarity of relapse events.\n",
        "\n",
        "*  Limited labeled data and patient diversity.\n",
        "\n",
        "*  The trade-off between false positives and missed relapses.\n",
        "\n",
        "Possible Improvements:\n",
        "\n",
        "I propose an **ensemble** approach combining different models:\n",
        "*  Autoencoder: detects unusual patterns by learning “normal” behavior and\n",
        "flagging anomalies (unsupervised).\n",
        "\n",
        "*  Supervised classifier: uses the autoencoder’s reconstruction loss plus other features and relapse labels to learn what patterns lead to relapse (supervised).\n",
        "\n",
        "*  Temporal models (LSTM/Transformer): analyze sequences of data over time to capture evolving patterns before relapse.\n",
        "\n",
        "Why an ensemble?\n",
        "Each model type captures different aspects of the data:\n",
        "\n",
        "*  Autoencoder: unusual, anomalous days.\n",
        "\n",
        "*  Classifier: learned distinctions between relapse/non-relapse days.\n",
        "\n",
        "*  Temporal model: trends and sequences leading to relapse.\n",
        "\n",
        "**Combining them can lead to better, more robust predictions than any single model alone.**\n",
        "\n"
      ]
    }
  ],
  "metadata": {
    "colab": {
      "provenance": []
    },
    "kernelspec": {
      "display_name": "Python 3",
      "name": "python3"
    },
    "language_info": {
      "codemirror_mode": {
        "name": "ipython",
        "version": 3
      },
      "file_extension": ".py",
      "mimetype": "text/x-python",
      "name": "python",
      "nbconvert_exporter": "python",
      "pygments_lexer": "ipython3",
      "version": "3.11.0"
    }
  },
  "nbformat": 4,
  "nbformat_minor": 0
}
